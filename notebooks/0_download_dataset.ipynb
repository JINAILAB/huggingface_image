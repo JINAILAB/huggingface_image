{
 "cells": [
  {
   "cell_type": "markdown",
   "metadata": {},
   "source": [
    "# CIFAR-100 데이터셋 이미지 다운로드\n",
    "\n",
    "이 강의에서는 CIFAR-10 데이터셋을 다운로드하고, 훈련 및 테스트 데이터셋을 각기 다른 폴더에 저장하는 방법을 다룹니다.\n",
    "\n",
    "## CIFAR-100 개요\n",
    "\n",
    "CIFAR-100은 머신러닝 및 컴퓨터 비전 작업에 자주 사용되는 데이터셋입니다. 이 데이터셋은 **100개의 서로 다른 클래스**에 속하는 **60,000개의 32x32 크기의 컬러 이미지**로 구성되어 있으며, **50,000개의 훈련 이미지**와 **10,000개의 테스트 이미지**로 나뉩니다. 클래스는 총 20개의 상위 클래스로도 분류됩니다. 각 하위 클래스는 사물, 동물, 식물 등 구체적인 객체를 나타냅니다.\n",
    "\n",
    "이번 강의에서는 다음 단계를 거쳐 진행됩니다:\n",
    "1. CIFAR-100 데이터셋을 다운로드합니다.\n",
    "2. 훈련 및 테스트 데이터셋을 분리하여 저장합니다.\n",
    "3. 각 클래스별로 이미지를 폴더에 저장합니다.\n",
    "\n",
    "이 과정을 통해 CIFAR-100의 모든 이미지가 정리된 폴더에 저장되며, 이 이미지들을 다양한 머신러닝 및 딥러닝 모델의 학습에 사용할 수 있습니다."
   ]
  },
  {
   "cell_type": "markdown",
   "metadata": {},
   "source": [
    "### 필요한 라이브러리\n",
    "\n",
    "이 과정을 시작하기 전에, 아래의 라이브러리들이 설치되어 있어야 합니다:\n",
    "- `torch`\n",
    "- `torchvision`\n",
    "- `PIL`"
   ]
  },
  {
   "cell_type": "code",
   "execution_count": 1,
   "metadata": {},
   "outputs": [
    {
     "name": "stderr",
     "output_type": "stream",
     "text": [
      "/opt/conda/lib/python3.10/site-packages/tqdm/auto.py:21: TqdmWarning: IProgress not found. Please update jupyter and ipywidgets. See https://ipywidgets.readthedocs.io/en/stable/user_install.html\n",
      "  from .autonotebook import tqdm as notebook_tqdm\n"
     ]
    }
   ],
   "source": [
    "import torch\n",
    "import torchvision\n",
    "import torchvision.transforms as transforms\n",
    "from PIL import Image\n",
    "import os"
   ]
  },
  {
   "cell_type": "code",
   "execution_count": 2,
   "metadata": {},
   "outputs": [],
   "source": [
    "# 상위 폴더로 이동\n",
    "os.chdir('..')"
   ]
  },
  {
   "cell_type": "markdown",
   "metadata": {},
   "source": [
    "### 다운로드 및 저장 과정\n",
    "\n",
    "CIFAR-100 데이터셋을 다운로드한 후, 각 이미지를 PNG 형식으로 변환하여 저장합니다. 훈련 데이터는 `train` 폴더에, 테스트 데이터는 `test` 폴더에 저장되며, 각 클래스별로 폴더가 생성됩니다.\n",
    "\"\"\""
   ]
  },
  {
   "cell_type": "code",
   "execution_count": 3,
   "metadata": {},
   "outputs": [
    {
     "name": "stdout",
     "output_type": "stream",
     "text": [
      "Files already downloaded and verified\n",
      "Files already downloaded and verified\n"
     ]
    }
   ],
   "source": [
    "# CIFAR-100 다운로드\n",
    "transform = transforms.Compose([transforms.ToTensor()])\n",
    "train_dataset = torchvision.datasets.CIFAR100(root='./data', train=True, download=True, transform=transform)\n",
    "test_dataset = torchvision.datasets.CIFAR100(root='./data', train=False, download=True, transform=transform)"
   ]
  },
  {
   "cell_type": "markdown",
   "metadata": {},
   "source": [
    "CIRAR-10의 클래스 확인"
   ]
  },
  {
   "cell_type": "code",
   "execution_count": 4,
   "metadata": {},
   "outputs": [
    {
     "name": "stdout",
     "output_type": "stream",
     "text": [
      "['apple', 'aquarium_fish', 'baby', 'bear', 'beaver', 'bed', 'bee', 'beetle', 'bicycle', 'bottle', 'bowl', 'boy', 'bridge', 'bus', 'butterfly', 'camel', 'can', 'castle', 'caterpillar', 'cattle', 'chair', 'chimpanzee', 'clock', 'cloud', 'cockroach', 'couch', 'crab', 'crocodile', 'cup', 'dinosaur', 'dolphin', 'elephant', 'flatfish', 'forest', 'fox', 'girl', 'hamster', 'house', 'kangaroo', 'keyboard', 'lamp', 'lawn_mower', 'leopard', 'lion', 'lizard', 'lobster', 'man', 'maple_tree', 'motorcycle', 'mountain', 'mouse', 'mushroom', 'oak_tree', 'orange', 'orchid', 'otter', 'palm_tree', 'pear', 'pickup_truck', 'pine_tree', 'plain', 'plate', 'poppy', 'porcupine', 'possum', 'rabbit', 'raccoon', 'ray', 'road', 'rocket', 'rose', 'sea', 'seal', 'shark', 'shrew', 'skunk', 'skyscraper', 'snail', 'snake', 'spider', 'squirrel', 'streetcar', 'sunflower', 'sweet_pepper', 'table', 'tank', 'telephone', 'television', 'tiger', 'tractor', 'train', 'trout', 'tulip', 'turtle', 'wardrobe', 'whale', 'willow_tree', 'wolf', 'woman', 'worm']\n"
     ]
    }
   ],
   "source": [
    "cifar100_classes = train_dataset.classes \n",
    "print(cifar100_classes)"
   ]
  },
  {
   "cell_type": "markdown",
   "metadata": {},
   "source": [
    "이미지가 저장될 폴더를 생성해줍니다."
   ]
  },
  {
   "cell_type": "code",
   "execution_count": 5,
   "metadata": {},
   "outputs": [],
   "source": [
    "train_output_dir = './data/cifar100_images/train'\n",
    "test_output_dir = './data/cifar100_images/test'\n",
    "os.makedirs(train_output_dir, exist_ok=True)\n",
    "os.makedirs(test_output_dir, exist_ok=True)"
   ]
  },
  {
   "cell_type": "markdown",
   "metadata": {},
   "source": [
    "각 이미지를 PNG 형식으로 변환하여 저장해줍니다."
   ]
  },
  {
   "cell_type": "code",
   "execution_count": 6,
   "metadata": {},
   "outputs": [
    {
     "name": "stdout",
     "output_type": "stream",
     "text": [
      "훈련 데이터 이미지가 ./data/cifar100_images/train에 저장되었습니다.\n",
      "테스트 데이터 이미지가 ./data/cifar100_images/test에 저장되었습니다.\n"
     ]
    }
   ],
   "source": [
    "# 훈련 데이터 이미지 저장\n",
    "for idx in range(len(train_dataset)):\n",
    "    image, label = train_dataset[idx]\n",
    "    # 이미지 텐서를 PIL 이미지로 변환\n",
    "    image = transforms.ToPILImage()(image)\n",
    "    # 파일로 저장 (label 폴더에 이미지 저장)\n",
    "    class_name = cifar100_classes[label] # 숫자 레이블을 클래스 이름으로 변환\n",
    "    label_dir = os.path.join(train_output_dir, class_name)\n",
    "    os.makedirs(label_dir, exist_ok=True)\n",
    "    image.save(os.path.join(label_dir, f'image_{idx}.png'))\n",
    "\n",
    "print(f'훈련 데이터 이미지가 {train_output_dir}에 저장되었습니다.')\n",
    "\n",
    "# 테스트 데이터 이미지 저장\n",
    "for idx in range(len(test_dataset)):\n",
    "    image, label = test_dataset[idx]\n",
    "    \n",
    "    class_name = cifar100_classes[label]\n",
    "    # 이미지 텐서를 PIL 이미지로 변환\n",
    "    image = transforms.ToPILImage()(image)\n",
    "    # 파일로 저장 (label 폴더에 이미지 저장)\n",
    "    class_name = cifar100_classes[label] # 숫자 레이블을 클래스 이름으로 변환\n",
    "    label_dir = os.path.join(test_output_dir, class_name)\n",
    "    os.makedirs(label_dir, exist_ok=True)\n",
    "    image.save(os.path.join(label_dir, f'image_{idx}.png'))\n",
    "\n",
    "print(f'테스트 데이터 이미지가 {test_output_dir}에 저장되었습니다.')"
   ]
  },
  {
   "cell_type": "code",
   "execution_count": null,
   "metadata": {},
   "outputs": [],
   "source": []
  },
  {
   "cell_type": "code",
   "execution_count": null,
   "metadata": {},
   "outputs": [],
   "source": []
  },
  {
   "cell_type": "code",
   "execution_count": null,
   "metadata": {},
   "outputs": [],
   "source": []
  }
 ],
 "metadata": {
  "kernelspec": {
   "display_name": "base",
   "language": "python",
   "name": "python3"
  },
  "language_info": {
   "codemirror_mode": {
    "name": "ipython",
    "version": 3
   },
   "file_extension": ".py",
   "mimetype": "text/x-python",
   "name": "python",
   "nbconvert_exporter": "python",
   "pygments_lexer": "ipython3",
   "version": "3.10.13"
  }
 },
 "nbformat": 4,
 "nbformat_minor": 2
}
