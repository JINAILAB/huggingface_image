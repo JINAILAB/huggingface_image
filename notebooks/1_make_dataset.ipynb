{
 "cells": [
  {
   "cell_type": "markdown",
   "metadata": {},
   "source": [
    "# 데이터셋 전처리 및 저장 과정\n",
    "\n",
    "## 데이터 로드 및 준비\n",
    "우선, CIFAR100 이미지 데이터를 로드하고 준비하는 과정부터 설명하겠습니다. 데이터는 두 가지 경로로 구성되어 있으며, 각각 `train` 폴더와 `test` 폴더에 저장되어 있습니다. 우리는 `glob` 라이브러리를 사용해 해당 경로에 있는 모든 `.png` 파일을 검색합니다."
   ]
  },
  {
   "cell_type": "code",
   "execution_count": 1,
   "metadata": {},
   "outputs": [
    {
     "name": "stderr",
     "output_type": "stream",
     "text": [
      "/opt/conda/lib/python3.10/site-packages/tqdm/auto.py:21: TqdmWarning: IProgress not found. Please update jupyter and ipywidgets. See https://ipywidgets.readthedocs.io/en/stable/user_install.html\n",
      "  from .autonotebook import tqdm as notebook_tqdm\n"
     ]
    }
   ],
   "source": [
    "import glob\n",
    "from sklearn.model_selection import train_test_split\n",
    "import pandas as pd\n",
    "import os\n",
    "from datasets import Dataset, DatasetDict, ClassLabel, Image"
   ]
  },
  {
   "cell_type": "code",
   "execution_count": 2,
   "metadata": {},
   "outputs": [],
   "source": [
    "# 상위 폴더로 이동\n",
    "os.chdir('..')"
   ]
  },
  {
   "cell_type": "markdown",
   "metadata": {},
   "source": [
    "## dataset\n",
    "\n",
    "밑에 코드의 경로 부분만 변경하면 custom dataset으로도 얼마든지 훈련과 추론을 해볼 수 있습니다. 본인의 데이터셋으로도 한 번 해보세요!"
   ]
  },
  {
   "cell_type": "code",
   "execution_count": 3,
   "metadata": {},
   "outputs": [],
   "source": [
    "train_dirs = glob.glob('./data/cifar100_images/train/**/*.png', recursive=True)\n",
    "test_dirs = glob.glob('./data/cifar100_images/test/**/*.png', recursive=True)"
   ]
  },
  {
   "cell_type": "code",
   "execution_count": 4,
   "metadata": {},
   "outputs": [
    {
     "data": {
      "text/plain": [
       "(50000, 10000)"
      ]
     },
     "execution_count": 4,
     "metadata": {},
     "output_type": "execute_result"
    }
   ],
   "source": [
    "len(train_dirs), len(test_dirs)"
   ]
  },
  {
   "cell_type": "markdown",
   "metadata": {},
   "source": [
    "## 데이터프레임 생성\n",
    "\n",
    "다음으로, 각각의 경로에서 파일명을 추출하고 이를 데이터프레임으로 변환하여 label과 name 컬럼을 추가합니다. 이 과정에서는 이미지 경로에서 클래스 라벨을 추출하여 각 이미지를 구분합니다."
   ]
  },
  {
   "cell_type": "code",
   "execution_count": 5,
   "metadata": {},
   "outputs": [],
   "source": [
    "train_df = pd.DataFrame({'dirs': train_dirs})\n",
    "test_df = pd.DataFrame({'dirs': test_dirs})\n",
    "\n",
    "train_df['label'] = train_df['dirs'].apply(lambda x: x.split('/')[-2])\n",
    "test_df['label'] = test_df['dirs'].apply(lambda x: x.split('/')[-2])\n",
    "\n",
    "train_df['name'] = train_df['dirs'].apply(lambda x: x.split('/')[-1].split('.')[0])\n",
    "test_df['name'] = test_df['dirs'].apply(lambda x: x.split('/')[-1].split('.')[0])"
   ]
  },
  {
   "cell_type": "code",
   "execution_count": 6,
   "metadata": {},
   "outputs": [
    {
     "data": {
      "text/html": [
       "<div>\n",
       "<style scoped>\n",
       "    .dataframe tbody tr th:only-of-type {\n",
       "        vertical-align: middle;\n",
       "    }\n",
       "\n",
       "    .dataframe tbody tr th {\n",
       "        vertical-align: top;\n",
       "    }\n",
       "\n",
       "    .dataframe thead th {\n",
       "        text-align: right;\n",
       "    }\n",
       "</style>\n",
       "<table border=\"1\" class=\"dataframe\">\n",
       "  <thead>\n",
       "    <tr style=\"text-align: right;\">\n",
       "      <th></th>\n",
       "      <th>dirs</th>\n",
       "      <th>label</th>\n",
       "      <th>name</th>\n",
       "    </tr>\n",
       "  </thead>\n",
       "  <tbody>\n",
       "    <tr>\n",
       "      <th>0</th>\n",
       "      <td>./data/cifar100_images/train/cattle/image_0.png</td>\n",
       "      <td>cattle</td>\n",
       "      <td>image_0</td>\n",
       "    </tr>\n",
       "    <tr>\n",
       "      <th>1</th>\n",
       "      <td>./data/cifar100_images/train/cattle/image_137.png</td>\n",
       "      <td>cattle</td>\n",
       "      <td>image_137</td>\n",
       "    </tr>\n",
       "    <tr>\n",
       "      <th>2</th>\n",
       "      <td>./data/cifar100_images/train/cattle/image_180.png</td>\n",
       "      <td>cattle</td>\n",
       "      <td>image_180</td>\n",
       "    </tr>\n",
       "    <tr>\n",
       "      <th>3</th>\n",
       "      <td>./data/cifar100_images/train/cattle/image_224.png</td>\n",
       "      <td>cattle</td>\n",
       "      <td>image_224</td>\n",
       "    </tr>\n",
       "    <tr>\n",
       "      <th>4</th>\n",
       "      <td>./data/cifar100_images/train/cattle/image_278.png</td>\n",
       "      <td>cattle</td>\n",
       "      <td>image_278</td>\n",
       "    </tr>\n",
       "    <tr>\n",
       "      <th>...</th>\n",
       "      <td>...</td>\n",
       "      <td>...</td>\n",
       "      <td>...</td>\n",
       "    </tr>\n",
       "    <tr>\n",
       "      <th>49995</th>\n",
       "      <td>./data/cifar100_images/train/can/image_49863.png</td>\n",
       "      <td>can</td>\n",
       "      <td>image_49863</td>\n",
       "    </tr>\n",
       "    <tr>\n",
       "      <th>49996</th>\n",
       "      <td>./data/cifar100_images/train/can/image_49928.png</td>\n",
       "      <td>can</td>\n",
       "      <td>image_49928</td>\n",
       "    </tr>\n",
       "    <tr>\n",
       "      <th>49997</th>\n",
       "      <td>./data/cifar100_images/train/can/image_49953.png</td>\n",
       "      <td>can</td>\n",
       "      <td>image_49953</td>\n",
       "    </tr>\n",
       "    <tr>\n",
       "      <th>49998</th>\n",
       "      <td>./data/cifar100_images/train/can/image_49965.png</td>\n",
       "      <td>can</td>\n",
       "      <td>image_49965</td>\n",
       "    </tr>\n",
       "    <tr>\n",
       "      <th>49999</th>\n",
       "      <td>./data/cifar100_images/train/can/image_49991.png</td>\n",
       "      <td>can</td>\n",
       "      <td>image_49991</td>\n",
       "    </tr>\n",
       "  </tbody>\n",
       "</table>\n",
       "<p>50000 rows × 3 columns</p>\n",
       "</div>"
      ],
      "text/plain": [
       "                                                    dirs   label         name\n",
       "0        ./data/cifar100_images/train/cattle/image_0.png  cattle      image_0\n",
       "1      ./data/cifar100_images/train/cattle/image_137.png  cattle    image_137\n",
       "2      ./data/cifar100_images/train/cattle/image_180.png  cattle    image_180\n",
       "3      ./data/cifar100_images/train/cattle/image_224.png  cattle    image_224\n",
       "4      ./data/cifar100_images/train/cattle/image_278.png  cattle    image_278\n",
       "...                                                  ...     ...          ...\n",
       "49995   ./data/cifar100_images/train/can/image_49863.png     can  image_49863\n",
       "49996   ./data/cifar100_images/train/can/image_49928.png     can  image_49928\n",
       "49997   ./data/cifar100_images/train/can/image_49953.png     can  image_49953\n",
       "49998   ./data/cifar100_images/train/can/image_49965.png     can  image_49965\n",
       "49999   ./data/cifar100_images/train/can/image_49991.png     can  image_49991\n",
       "\n",
       "[50000 rows x 3 columns]"
      ]
     },
     "execution_count": 6,
     "metadata": {},
     "output_type": "execute_result"
    }
   ],
   "source": [
    "train_df"
   ]
  },
  {
   "cell_type": "markdown",
   "metadata": {},
   "source": [
    "## 판다스 데이터프레임에 이미지 데이터를 추가\n",
    "\n",
    "Pandas DataFrame에 이미지 자체를 직접 저장하는 방식으로는, 이미지 데이터를 바이너리 데이터 (바이트 배열) 형태로 저장할 수 있습니다. 그러나 Pandas 자체로는 이미지를 시각화하거나 바로 처리할 수는 없기 때문에, 주로 바이트 배열 형태로 이미지를 저장한 후 다시 이미지로 변환하는 방식이 일반적입니다."
   ]
  },
  {
   "cell_type": "code",
   "execution_count": 7,
   "metadata": {},
   "outputs": [],
   "source": [
    "def image_to_byte(row):\n",
    "    with open(row, 'rb') as image_file:\n",
    "        return image_file.read()"
   ]
  },
  {
   "cell_type": "code",
   "execution_count": 8,
   "metadata": {},
   "outputs": [],
   "source": [
    "train_df['image'] = train_df['dirs'].map(image_to_byte)\n",
    "test_df['image'] = test_df['dirs'].map(image_to_byte)"
   ]
  },
  {
   "cell_type": "markdown",
   "metadata": {},
   "source": [
    "## 훈련 및 검증 데이터 분할\n",
    "다음으로, 훈련 데이터를 80:20 비율로 훈련과 검증 데이터로 나눕니다. 이를 위해 train_test_split 함수를 사용하여 데이터를 분할합니다."
   ]
  },
  {
   "cell_type": "code",
   "execution_count": 9,
   "metadata": {},
   "outputs": [],
   "source": [
    "train_df, valid_df= train_test_split(train_df, test_size=0.2, stratify=train_df['label'], random_state=42)"
   ]
  },
  {
   "cell_type": "markdown",
   "metadata": {},
   "source": [
    "데이터가 잘 나누어졌나 확인해봅시다."
   ]
  },
  {
   "cell_type": "code",
   "execution_count": 10,
   "metadata": {},
   "outputs": [
    {
     "data": {
      "text/plain": [
       "(40000, 10000, 10000)"
      ]
     },
     "execution_count": 10,
     "metadata": {},
     "output_type": "execute_result"
    }
   ],
   "source": [
    "len(train_df), len(valid_df), len(test_df)"
   ]
  },
  {
   "cell_type": "code",
   "execution_count": 11,
   "metadata": {},
   "outputs": [
    {
     "data": {
      "text/plain": [
       "label\n",
       "turtle        400\n",
       "fox           400\n",
       "rabbit        400\n",
       "couch         400\n",
       "crocodile     400\n",
       "             ... \n",
       "kangaroo      400\n",
       "palm_tree     400\n",
       "forest        400\n",
       "baby          400\n",
       "lawn_mower    400\n",
       "Name: count, Length: 100, dtype: int64"
      ]
     },
     "execution_count": 11,
     "metadata": {},
     "output_type": "execute_result"
    }
   ],
   "source": [
    "train_df['label'].value_counts()"
   ]
  },
  {
   "cell_type": "code",
   "execution_count": 12,
   "metadata": {},
   "outputs": [
    {
     "data": {
      "text/html": [
       "<div>\n",
       "<style scoped>\n",
       "    .dataframe tbody tr th:only-of-type {\n",
       "        vertical-align: middle;\n",
       "    }\n",
       "\n",
       "    .dataframe tbody tr th {\n",
       "        vertical-align: top;\n",
       "    }\n",
       "\n",
       "    .dataframe thead th {\n",
       "        text-align: right;\n",
       "    }\n",
       "</style>\n",
       "<table border=\"1\" class=\"dataframe\">\n",
       "  <thead>\n",
       "    <tr style=\"text-align: right;\">\n",
       "      <th></th>\n",
       "      <th>dirs</th>\n",
       "      <th>label</th>\n",
       "      <th>name</th>\n",
       "      <th>image</th>\n",
       "    </tr>\n",
       "  </thead>\n",
       "  <tbody>\n",
       "    <tr>\n",
       "      <th>0</th>\n",
       "      <td>./data/cifar100_images/test/mountain/image_0.png</td>\n",
       "      <td>mountain</td>\n",
       "      <td>image_0</td>\n",
       "      <td>b'\\x89PNG\\r\\n\\x1a\\n\\x00\\x00\\x00\\rIHDR\\x00\\x00\\...</td>\n",
       "    </tr>\n",
       "    <tr>\n",
       "      <th>1</th>\n",
       "      <td>./data/cifar100_images/test/mountain/image_21.png</td>\n",
       "      <td>mountain</td>\n",
       "      <td>image_21</td>\n",
       "      <td>b'\\x89PNG\\r\\n\\x1a\\n\\x00\\x00\\x00\\rIHDR\\x00\\x00\\...</td>\n",
       "    </tr>\n",
       "    <tr>\n",
       "      <th>2</th>\n",
       "      <td>./data/cifar100_images/test/mountain/image_42.png</td>\n",
       "      <td>mountain</td>\n",
       "      <td>image_42</td>\n",
       "      <td>b'\\x89PNG\\r\\n\\x1a\\n\\x00\\x00\\x00\\rIHDR\\x00\\x00\\...</td>\n",
       "    </tr>\n",
       "    <tr>\n",
       "      <th>3</th>\n",
       "      <td>./data/cifar100_images/test/mountain/image_212...</td>\n",
       "      <td>mountain</td>\n",
       "      <td>image_212</td>\n",
       "      <td>b'\\x89PNG\\r\\n\\x1a\\n\\x00\\x00\\x00\\rIHDR\\x00\\x00\\...</td>\n",
       "    </tr>\n",
       "    <tr>\n",
       "      <th>4</th>\n",
       "      <td>./data/cifar100_images/test/mountain/image_397...</td>\n",
       "      <td>mountain</td>\n",
       "      <td>image_397</td>\n",
       "      <td>b'\\x89PNG\\r\\n\\x1a\\n\\x00\\x00\\x00\\rIHDR\\x00\\x00\\...</td>\n",
       "    </tr>\n",
       "    <tr>\n",
       "      <th>...</th>\n",
       "      <td>...</td>\n",
       "      <td>...</td>\n",
       "      <td>...</td>\n",
       "      <td>...</td>\n",
       "    </tr>\n",
       "    <tr>\n",
       "      <th>9995</th>\n",
       "      <td>./data/cifar100_images/test/tiger/image_8975.png</td>\n",
       "      <td>tiger</td>\n",
       "      <td>image_8975</td>\n",
       "      <td>b'\\x89PNG\\r\\n\\x1a\\n\\x00\\x00\\x00\\rIHDR\\x00\\x00\\...</td>\n",
       "    </tr>\n",
       "    <tr>\n",
       "      <th>9996</th>\n",
       "      <td>./data/cifar100_images/test/tiger/image_9002.png</td>\n",
       "      <td>tiger</td>\n",
       "      <td>image_9002</td>\n",
       "      <td>b'\\x89PNG\\r\\n\\x1a\\n\\x00\\x00\\x00\\rIHDR\\x00\\x00\\...</td>\n",
       "    </tr>\n",
       "    <tr>\n",
       "      <th>9997</th>\n",
       "      <td>./data/cifar100_images/test/tiger/image_9079.png</td>\n",
       "      <td>tiger</td>\n",
       "      <td>image_9079</td>\n",
       "      <td>b'\\x89PNG\\r\\n\\x1a\\n\\x00\\x00\\x00\\rIHDR\\x00\\x00\\...</td>\n",
       "    </tr>\n",
       "    <tr>\n",
       "      <th>9998</th>\n",
       "      <td>./data/cifar100_images/test/tiger/image_9490.png</td>\n",
       "      <td>tiger</td>\n",
       "      <td>image_9490</td>\n",
       "      <td>b'\\x89PNG\\r\\n\\x1a\\n\\x00\\x00\\x00\\rIHDR\\x00\\x00\\...</td>\n",
       "    </tr>\n",
       "    <tr>\n",
       "      <th>9999</th>\n",
       "      <td>./data/cifar100_images/test/tiger/image_9525.png</td>\n",
       "      <td>tiger</td>\n",
       "      <td>image_9525</td>\n",
       "      <td>b'\\x89PNG\\r\\n\\x1a\\n\\x00\\x00\\x00\\rIHDR\\x00\\x00\\...</td>\n",
       "    </tr>\n",
       "  </tbody>\n",
       "</table>\n",
       "<p>10000 rows × 4 columns</p>\n",
       "</div>"
      ],
      "text/plain": [
       "                                                   dirs     label        name  \\\n",
       "0      ./data/cifar100_images/test/mountain/image_0.png  mountain     image_0   \n",
       "1     ./data/cifar100_images/test/mountain/image_21.png  mountain    image_21   \n",
       "2     ./data/cifar100_images/test/mountain/image_42.png  mountain    image_42   \n",
       "3     ./data/cifar100_images/test/mountain/image_212...  mountain   image_212   \n",
       "4     ./data/cifar100_images/test/mountain/image_397...  mountain   image_397   \n",
       "...                                                 ...       ...         ...   \n",
       "9995   ./data/cifar100_images/test/tiger/image_8975.png     tiger  image_8975   \n",
       "9996   ./data/cifar100_images/test/tiger/image_9002.png     tiger  image_9002   \n",
       "9997   ./data/cifar100_images/test/tiger/image_9079.png     tiger  image_9079   \n",
       "9998   ./data/cifar100_images/test/tiger/image_9490.png     tiger  image_9490   \n",
       "9999   ./data/cifar100_images/test/tiger/image_9525.png     tiger  image_9525   \n",
       "\n",
       "                                                  image  \n",
       "0     b'\\x89PNG\\r\\n\\x1a\\n\\x00\\x00\\x00\\rIHDR\\x00\\x00\\...  \n",
       "1     b'\\x89PNG\\r\\n\\x1a\\n\\x00\\x00\\x00\\rIHDR\\x00\\x00\\...  \n",
       "2     b'\\x89PNG\\r\\n\\x1a\\n\\x00\\x00\\x00\\rIHDR\\x00\\x00\\...  \n",
       "3     b'\\x89PNG\\r\\n\\x1a\\n\\x00\\x00\\x00\\rIHDR\\x00\\x00\\...  \n",
       "4     b'\\x89PNG\\r\\n\\x1a\\n\\x00\\x00\\x00\\rIHDR\\x00\\x00\\...  \n",
       "...                                                 ...  \n",
       "9995  b'\\x89PNG\\r\\n\\x1a\\n\\x00\\x00\\x00\\rIHDR\\x00\\x00\\...  \n",
       "9996  b'\\x89PNG\\r\\n\\x1a\\n\\x00\\x00\\x00\\rIHDR\\x00\\x00\\...  \n",
       "9997  b'\\x89PNG\\r\\n\\x1a\\n\\x00\\x00\\x00\\rIHDR\\x00\\x00\\...  \n",
       "9998  b'\\x89PNG\\r\\n\\x1a\\n\\x00\\x00\\x00\\rIHDR\\x00\\x00\\...  \n",
       "9999  b'\\x89PNG\\r\\n\\x1a\\n\\x00\\x00\\x00\\rIHDR\\x00\\x00\\...  \n",
       "\n",
       "[10000 rows x 4 columns]"
      ]
     },
     "execution_count": 12,
     "metadata": {},
     "output_type": "execute_result"
    }
   ],
   "source": [
    "test_df"
   ]
  },
  {
   "cell_type": "markdown",
   "metadata": {},
   "source": [
    "## dataframe을 Dataset 객체로 변환\n",
    "huggingface library에서 사용할 수 있도록 dataset 객체로 바꿔줍시다."
   ]
  },
  {
   "cell_type": "code",
   "execution_count": 13,
   "metadata": {},
   "outputs": [],
   "source": [
    "# 안 해주면 dataset으로 바꾸는 과정에서 __index_level_0라는 칼럼이 생깁니다. index가 정렬이 안되어있어서 중요한 정보라고 생각되어 자동으로 바뀌는 과정같습니다.\n",
    "# 이걸 방지해주기 위해서 reset_index를 통해서 다시 정렬해줍니다.\n",
    "train_df.reset_index(drop=True, inplace=True)\n",
    "valid_df.reset_index(drop=True, inplace=True)"
   ]
  },
  {
   "cell_type": "code",
   "execution_count": 14,
   "metadata": {},
   "outputs": [],
   "source": [
    "train_dataset = Dataset.from_pandas(train_df)\n",
    "valid_dataset = Dataset.from_pandas(valid_df)\n",
    "test_dataset = Dataset.from_pandas(test_df)"
   ]
  },
  {
   "cell_type": "markdown",
   "metadata": {},
   "source": [
    "여기서 dataset에 저장될 이미지를 사이즈를 resize해줍니다. cifar10의 이미지는 32x32입니다. 현재 사용되는 모델들의 표준 사이즈는 224x224가 표준 사이즈입니다. 사용하기 위해서 256x256으로 resize하고 이후 crop하여 사용할 것입니다."
   ]
  },
  {
   "cell_type": "code",
   "execution_count": 15,
   "metadata": {},
   "outputs": [],
   "source": [
    "def convert_size(batch):\n",
    "    batch['image'] = [img.convert('RGB').resize((256, 256)) for img in batch['image']]\n",
    "    return batch"
   ]
  },
  {
   "cell_type": "code",
   "execution_count": 16,
   "metadata": {},
   "outputs": [],
   "source": [
    "def resize_and_cast(dataset, new_features):\n",
    "    dataset = dataset.cast(new_features)\n",
    "    dataset = dataset.map(convert_size, batched=True, batch_size=256)\n",
    "    return dataset"
   ]
  },
  {
   "cell_type": "code",
   "execution_count": 17,
   "metadata": {},
   "outputs": [
    {
     "name": "stderr",
     "output_type": "stream",
     "text": [
      "Casting the dataset: 100%|██████████| 40000/40000 [00:00<00:00, 158490.48 examples/s]\n",
      "Map: 100%|██████████| 40000/40000 [28:44<00:00, 23.19 examples/s]\n",
      "Casting the dataset: 100%|██████████| 10000/10000 [00:00<00:00, 183921.17 examples/s]\n",
      "Map: 100%|██████████| 10000/10000 [07:11<00:00, 23.19 examples/s]\n",
      "Casting the dataset: 100%|██████████| 10000/10000 [00:00<00:00, 183234.99 examples/s]\n",
      "Map: 100%|██████████| 10000/10000 [07:11<00:00, 23.17 examples/s]\n"
     ]
    },
    {
     "name": "stderr",
     "output_type": "stream",
     "text": [
      "Map:  84%|████████▍ | 8448/10000 [06:13<01:03, 24.27 examples/s]]"
     ]
    }
   ],
   "source": [
    "new_features = train_dataset.features.copy()\n",
    "new_features['label'] = ClassLabel(names=list(set(train_dataset['label'])))\n",
    "new_features['image'] = Image()\n",
    "\n",
    "train_dataset = resize_and_cast(train_dataset, new_features)\n",
    "valid_dataset = resize_and_cast(valid_dataset, new_features)\n",
    "test_dataset = resize_and_cast(test_dataset, new_features)"
   ]
  },
  {
   "cell_type": "markdown",
   "metadata": {},
   "source": [
    "## 최종 데이터 저장\n",
    "모든 데이터셋을 전처리한 후, 해당 데이터를 디스크에 저장합니다."
   ]
  },
  {
   "cell_type": "code",
   "execution_count": 18,
   "metadata": {},
   "outputs": [],
   "source": [
    "combined_dataset = DatasetDict({\n",
    "        \"train\": train_dataset,\n",
    "        \"valid\": valid_dataset})\n",
    "test_dataset = DatasetDict(\n",
    "        {\"test\" : test_dataset}\n",
    ")"
   ]
  },
  {
   "cell_type": "code",
   "execution_count": 19,
   "metadata": {},
   "outputs": [
    {
     "name": "stderr",
     "output_type": "stream",
     "text": [
      "Saving the dataset (0/4 shards):   0%|          | 0/40000 [00:00<?, ? examples/s]"
     ]
    },
    {
     "name": "stderr",
     "output_type": "stream",
     "text": [
      "Saving the dataset (4/4 shards): 100%|██████████| 40000/40000 [00:04<00:00, 8026.07 examples/s]\n",
      "Saving the dataset (1/1 shards): 100%|██████████| 10000/10000 [00:01<00:00, 8106.51 examples/s]\n",
      "Saving the dataset (1/1 shards): 100%|██████████| 10000/10000 [00:01<00:00, 8184.15 examples/s]\n"
     ]
    }
   ],
   "source": [
    "combined_dataset.save_to_disk('./data/hfdataset/train_valid')\n",
    "test_dataset.save_to_disk('./data/hfdataset/test')"
   ]
  },
  {
   "cell_type": "code",
   "execution_count": null,
   "metadata": {},
   "outputs": [],
   "source": []
  }
 ],
 "metadata": {
  "kernelspec": {
   "display_name": "mljar",
   "language": "python",
   "name": "python3"
  },
  "language_info": {
   "codemirror_mode": {
    "name": "ipython",
    "version": 3
   },
   "file_extension": ".py",
   "mimetype": "text/x-python",
   "name": "python",
   "nbconvert_exporter": "python",
   "pygments_lexer": "ipython3",
   "version": "3.10.13"
  }
 },
 "nbformat": 4,
 "nbformat_minor": 2
}
