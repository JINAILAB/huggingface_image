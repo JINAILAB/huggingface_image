{
 "cells": [
  {
   "cell_type": "code",
   "execution_count": 1,
   "metadata": {},
   "outputs": [],
   "source": [
    "import os\n",
    "from datasets import load_dataset \n",
    "import os\n",
    "from datasets import load_from_disk, load_dataset\n",
    "import PIL\n",
    "import warnings\n",
    "warnings.filterwarnings('ignore')\n",
    "from torchvision import transforms\n",
    "from datasets import load_dataset\n",
    "from transformers import AutoImageProcessor\n",
    "from pytorch_grad_cam import run_dff_on_image, GradCAMPlusPlus\n",
    "from pytorch_grad_cam.utils.model_targets import ClassifierOutputTarget\n",
    "from pytorch_grad_cam.utils.image import show_cam_on_image\n",
    "from PIL import Image\n",
    "import numpy as np\n",
    "import cv2\n",
    "import torch\n",
    "from typing import List, Callable, Optional"
   ]
  },
  {
   "cell_type": "code",
   "execution_count": 2,
   "metadata": {},
   "outputs": [],
   "source": [
    "from transformers import AutoImageProcessor, AutoModelForImageClassification"
   ]
  },
  {
   "cell_type": "code",
   "execution_count": 3,
   "metadata": {},
   "outputs": [],
   "source": [
    "dataset = load_dataset(\"huggingface/cats-image\")\n",
    "image = dataset[\"test\"][\"image\"][0]"
   ]
  },
  {
   "cell_type": "code",
   "execution_count": 4,
   "metadata": {},
   "outputs": [],
   "source": [
    "\n",
    "os.environ[\"CUDA_DEVICE_ORDER\"]=\"PCI_BUS_ID\"  # Arrange GPU devices starting from 0\n",
    "os.environ[\"CUDA_VISIBLE_DEVICES\"]= \"1\""
   ]
  },
  {
   "cell_type": "code",
   "execution_count": 5,
   "metadata": {},
   "outputs": [],
   "source": [
    "model_checkpoint = \"/workspace/model/hugginface_image_classifcation/new_hipjoint/resnet-18_20231218_1843/best.hf\" # pre-trained model from which to fine-tune\n",
    "batch_size = 32 # batch size for training and evaluation\n",
    "dataset = load_from_disk('new_hipjoint_hfdataset')"
   ]
  },
  {
   "cell_type": "code",
   "execution_count": 6,
   "metadata": {},
   "outputs": [],
   "source": [
    "val_ds = dataset['test']"
   ]
  },
  {
   "cell_type": "code",
   "execution_count": 7,
   "metadata": {},
   "outputs": [],
   "source": [
    "from torchvision import transforms\n",
    "\n",
    "image = dataset[\"test\"][\"image\"][5]"
   ]
  },
  {
   "cell_type": "code",
   "execution_count": 13,
   "metadata": {},
   "outputs": [],
   "source": [
    "image = image.convert('RGB')"
   ]
  },
  {
   "cell_type": "code",
   "execution_count": 8,
   "metadata": {},
   "outputs": [],
   "source": [
    "mean=(0.485, 0.456, 0.406)\n",
    "std=(0.229, 0.224, 0.225)"
   ]
  },
  {
   "cell_type": "code",
   "execution_count": 9,
   "metadata": {},
   "outputs": [],
   "source": [
    "trans = transforms.Compose([transforms.ToTensor(),\n",
    "                    transforms.Resize((256, 256)),\n",
    "                    transforms.Normalize(mean=mean, std=std)])"
   ]
  },
  {
   "cell_type": "code",
   "execution_count": 138,
   "metadata": {},
   "outputs": [
    {
     "name": "stderr",
     "output_type": "stream",
     "text": [
      "Could not find image processor class in the image processor config or the model config. Loading based on pattern matching with the model's feature extractor configuration.\n"
     ]
    }
   ],
   "source": [
    "resnet_model = AutoModelForImageClassification.from_pretrained(\"/workspace/model/hugginface_image_classifcation/new_hipjoint/resnet-18_20231218_1843/best.hf\")\n",
    "convnext_model = AutoModelForImageClassification.from_pretrained(\"/workspace/model/hugginface_image_classifcation/new_hipjoint/convnext-large-224_20231218_1956/best.hf\")\n",
    "swin_model = AutoModelForImageClassification.from_pretrained(\"/workspace/model/hugginface_image_classifcation/new_hipjoint/swin-large-patch4-window12-384-in22k_20231218_2321/best.hf\")\n",
    "vit_model = AutoModelForImageClassification.from_pretrained(\"/workspace/model/hugginface_image_classifcation/new_hipjoint/vit-base-patch16-224_20231218_1404/best.hf\")\n",
    "swinv2_model = AutoModelForImageClassification.from_pretrained(\"/workspace/model/hugginface_image_classifcation/new_hipjoint/swin-large-patch4-window12-384-in22k_20231218_2321/best.hf\")\n",
    "\n",
    "\n",
    "processor = AutoImageProcessor.from_pretrained(\"microsoft/resnet-50\")"
   ]
  },
  {
   "cell_type": "code",
   "execution_count": 139,
   "metadata": {},
   "outputs": [],
   "source": [
    "swin_processor = AutoImageProcessor.from_pretrained(\"/workspace/model/hugginface_image_classifcation/new_hipjoint/swin-large-patch4-window12-384-in22k_20231218_2321/best.hf\")"
   ]
  },
  {
   "cell_type": "code",
   "execution_count": 140,
   "metadata": {},
   "outputs": [],
   "source": [
    "inputs = processor(image, return_tensors=\"pt\")\n",
    "swin_inputs = swin_processor(image, return_tensors='pt')"
   ]
  },
  {
   "cell_type": "code",
   "execution_count": 141,
   "metadata": {},
   "outputs": [
    {
     "data": {
      "text/plain": [
       "<torch.utils.hooks.RemovableHandle at 0x7fc4141709d0>"
      ]
     },
     "execution_count": 141,
     "metadata": {},
     "output_type": "execute_result"
    }
   ],
   "source": [
    "# 중간 layer의 output을 저장하기 위한 함수\n",
    "outputs = []\n",
    "def hook(module, input, output):\n",
    "    outputs.append(output)\n",
    "\n",
    "# 마지막 hidden layer에 hook 등록\n",
    "resnet_model.classifier[0].register_forward_hook(hook)\n",
    "convnext_model.convnext.layernorm.register_forward_hook(hook)\n",
    "swin_model.swin.pooler.register_forward_hook(hook)\n",
    "vit_model.vit.layernorm.register_forward_hook(hook)\n"
   ]
  },
  {
   "cell_type": "code",
   "execution_count": null,
   "metadata": {},
   "outputs": [],
   "source": []
  },
  {
   "cell_type": "code",
   "execution_count": 142,
   "metadata": {},
   "outputs": [],
   "source": [
    "with torch.no_grad():\n",
    "    output = resnet_model(**inputs)\n",
    "    output = convnext_model(**inputs)\n",
    "    output = swin_model(**swin_inputs)\n",
    "    output = vit_model(**inputs)"
   ]
  },
  {
   "cell_type": "code",
   "execution_count": 143,
   "metadata": {},
   "outputs": [
    {
     "name": "stdout",
     "output_type": "stream",
     "text": [
      "torch.Size([1, 512])\n",
      "torch.Size([1, 1536])\n",
      "torch.Size([1, 1536, 1])\n",
      "torch.Size([1, 197, 768])\n"
     ]
    }
   ],
   "source": [
    "for i in outputs:\n",
    "    print(i.shape)"
   ]
  },
  {
   "cell_type": "code",
   "execution_count": 127,
   "metadata": {},
   "outputs": [
    {
     "data": {
      "text/plain": [
       "Linear(in_features=768, out_features=7, bias=True)"
      ]
     },
     "execution_count": 127,
     "metadata": {},
     "output_type": "execute_result"
    }
   ],
   "source": [
    "vit_model.classifier"
   ]
  },
  {
   "cell_type": "markdown",
   "metadata": {},
   "source": []
  }
 ],
 "metadata": {
  "kernelspec": {
   "display_name": "Python 3",
   "language": "python",
   "name": "python3"
  },
  "language_info": {
   "codemirror_mode": {
    "name": "ipython",
    "version": 3
   },
   "file_extension": ".py",
   "mimetype": "text/x-python",
   "name": "python",
   "nbconvert_exporter": "python",
   "pygments_lexer": "ipython3",
   "version": "3.8.10"
  }
 },
 "nbformat": 4,
 "nbformat_minor": 2
}
